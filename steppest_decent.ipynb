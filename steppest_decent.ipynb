{
  "nbformat": 4,
  "nbformat_minor": 0,
  "metadata": {
    "colab": {
      "provenance": []
    },
    "kernelspec": {
      "name": "python3",
      "display_name": "Python 3"
    },
    "language_info": {
      "name": "python"
    }
  },
  "cells": [
    {
      "cell_type": "code",
      "execution_count": null,
      "metadata": {
        "id": "I3SRDkzfMktn"
      },
      "outputs": [],
      "source": [
        "from sympy import*\n",
        "import numpy as np\n",
        "from IPython.display import display, Math\n",
        "init_printing(use_unicode=False)"
      ]
    },
    {
      "cell_type": "code",
      "source": [
        "from sympy import symbols, sympify, diff, solve\n",
        "\n",
        "def step_descent():\n",
        "    # Input the number of variables\n",
        "    n = int(input(\"Masukkan banyak variabel: \"))\n",
        "\n",
        "    # Input variable names\n",
        "    var_names = []\n",
        "    for i in range(n):\n",
        "        var_name = input(f\"Masukkan nama variabel ke-{i+1}: \")\n",
        "        var_names.append(var_name)\n",
        "\n",
        "    # Create symbolic variables\n",
        "    symbolic_vars = symbols(var_names)\n",
        "\n",
        "    # Input the objective function\n",
        "    fungsi_str = input(\"Masukkan fungsi objektif: \")\n",
        "    fungsi = sympify(fungsi_str)\n",
        "\n",
        "    # Input initial values for variables\n",
        "    initial_values = []\n",
        "    for i, var_name in enumerate(var_names):\n",
        "        initial_value = float(input(f\"Masukkan titik awal {var_name}: \"))\n",
        "        initial_values.append(initial_value)\n",
        "\n",
        "    # Initialize X with initial values\n",
        "    X = [initial_values]\n",
        "\n",
        "    # Compute the gradient of the objective function\n",
        "    gradf = [diff(fungsi, var) for var in symbolic_vars]\n",
        "\n",
        "    # Perform gradient descent\n",
        "    iterasi = 0\n",
        "    max_iter = 20\n",
        "    while iterasi < max_iter:\n",
        "        # Compute gradient at current point\n",
        "        solutions = {symbolic_vars[i]: X[iterasi][i] for i in range(n)}\n",
        "        gradient = [grad.subs(solutions) for grad in gradf]\n",
        "\n",
        "        # Check if gradient is close to zero\n",
        "        if all(abs(grad) < 1e-6 for grad in gradient):\n",
        "            print(\"Konvergensi tercapai.\")\n",
        "            break\n",
        "\n",
        "        # Compute step direction\n",
        "        d = [-grad for grad in gradient]\n",
        "\n",
        "        # Find step size using line search\n",
        "        lamda = symbols('lamda')\n",
        "        xi = [X[iterasi][i] + lamda * d[i] for i in range(n)]\n",
        "        g = fungsi.subs({symbolic_vars[i]: xi[i] for i in range(n)})\n",
        "        gaksen = diff(g, lamda)\n",
        "        lamda_solution = solve(gaksen)\n",
        "        if lamda_solution:\n",
        "            lamda_optimal = lamda_solution[0]\n",
        "        else:\n",
        "            print(\"Gagal menemukan panjang langkah yang optimal.\")\n",
        "            break\n",
        "\n",
        "        # Update X\n",
        "        X.append([X[iterasi][i] + lamda_optimal * d[i] for i in range(n)])\n",
        "\n",
        "        # Print iteration information\n",
        "        print(f\"Iterasi ke-{iterasi+1}\")\n",
        "        print(\"Nilai X:\", X[-1])\n",
        "        print(\"Gradient:\")\n",
        "        display( gradient)\n",
        "        print(f\"d{iterasi+1} : {d}\")\n",
        "        display(xi)\n",
        "        print()\n",
        "\n",
        "        iterasi += 1\n",
        "    else:\n",
        "        print(\"Iterasi maksimum tercapai.\")\n",
        "\n",
        "step_descent()\n"
      ],
      "metadata": {
        "colab": {
          "base_uri": "https://localhost:8080/",
          "height": 1000
        },
        "id": "io612tLpyHSp",
        "outputId": "16f28618-2e10-4db7-b49f-cbda7aa6b386"
      },
      "execution_count": null,
      "outputs": [
        {
          "output_type": "stream",
          "name": "stdout",
          "text": [
            "Masukkan banyak variabel: 2\n",
            "Masukkan nama variabel ke-1: x1\n",
            "Masukkan nama variabel ke-2: x2\n",
            "Masukkan fungsi objektif: 2*x1**2+x2**2\n",
            "Masukkan titik awal x1: 1\n",
            "Masukkan titik awal x2: 2\n",
            "Iterasi ke-1\n",
            "Nilai X: [-0.333333333333333, 0.666666666666667]\n",
            "Gradient:\n"
          ]
        },
        {
          "output_type": "display_data",
          "data": {
            "text/plain": [
              "[4.0, 4.0]"
            ],
            "text/latex": "$\\displaystyle \\left[ 4.0, \\  4.0\\right]$"
          },
          "metadata": {}
        },
        {
          "output_type": "stream",
          "name": "stdout",
          "text": [
            "d1 : [-4.00000000000000, -4.00000000000000]\n"
          ]
        },
        {
          "output_type": "display_data",
          "data": {
            "text/plain": [
              "[1.0 - 4.0*lamda, 2.0 - 4.0*lamda]"
            ],
            "text/latex": "$\\displaystyle \\left[ 1.0 - 4.0 \\lambda, \\  2.0 - 4.0 \\lambda\\right]$"
          },
          "metadata": {}
        },
        {
          "output_type": "stream",
          "name": "stdout",
          "text": [
            "\n",
            "Iterasi ke-2\n",
            "Nilai X: [0.111111111111111, 0.222222222222222]\n",
            "Gradient:\n"
          ]
        },
        {
          "output_type": "display_data",
          "data": {
            "text/plain": [
              "[-1.33333333333333, 1.33333333333333]"
            ],
            "text/latex": "$\\displaystyle \\left[ -1.33333333333333, \\  1.33333333333333\\right]$"
          },
          "metadata": {}
        },
        {
          "output_type": "stream",
          "name": "stdout",
          "text": [
            "d2 : [1.33333333333333, -1.33333333333333]\n"
          ]
        },
        {
          "output_type": "display_data",
          "data": {
            "text/plain": [
              "[1.33333333333333*lamda - 0.333333333333333, 0.666666666666667 - 1.33333333333\n",
              "333*lamda]"
            ],
            "text/latex": "$\\displaystyle \\left[ 1.33333333333333 \\lambda - 0.333333333333333, \\  0.666666666666667 - 1.33333333333333 \\lambda\\right]$"
          },
          "metadata": {}
        },
        {
          "output_type": "stream",
          "name": "stdout",
          "text": [
            "\n",
            "Iterasi ke-3\n",
            "Nilai X: [-0.0370370370370370, 0.0740740740740741]\n",
            "Gradient:\n"
          ]
        },
        {
          "output_type": "display_data",
          "data": {
            "text/plain": [
              "[0.444444444444444, 0.444444444444445]"
            ],
            "text/latex": "$\\displaystyle \\left[ 0.444444444444444, \\  0.444444444444445\\right]$"
          },
          "metadata": {}
        },
        {
          "output_type": "stream",
          "name": "stdout",
          "text": [
            "d3 : [-0.444444444444444, -0.444444444444445]\n"
          ]
        },
        {
          "output_type": "display_data",
          "data": {
            "text/plain": [
              "[0.111111111111111 - 0.444444444444444*lamda, 0.222222222222222 - 0.4444444444\n",
              "44445*lamda]"
            ],
            "text/latex": "$\\displaystyle \\left[ 0.111111111111111 - 0.444444444444444 \\lambda, \\  0.222222222222222 - 0.444444444444445 \\lambda\\right]$"
          },
          "metadata": {}
        },
        {
          "output_type": "stream",
          "name": "stdout",
          "text": [
            "\n",
            "Iterasi ke-4\n",
            "Nilai X: [0.0123456790123457, 0.0246913580246914]\n",
            "Gradient:\n"
          ]
        },
        {
          "output_type": "display_data",
          "data": {
            "text/plain": [
              "[-0.148148148148148, 0.148148148148148]"
            ],
            "text/latex": "$\\displaystyle \\left[ -0.148148148148148, \\  0.148148148148148\\right]$"
          },
          "metadata": {}
        },
        {
          "output_type": "stream",
          "name": "stdout",
          "text": [
            "d4 : [0.148148148148148, -0.148148148148148]\n"
          ]
        },
        {
          "output_type": "display_data",
          "data": {
            "text/plain": [
              "[0.148148148148148*lamda - 0.037037037037037, 0.0740740740740741 - 0.148148148\n",
              "148148*lamda]"
            ],
            "text/latex": "$\\displaystyle \\left[ 0.148148148148148 \\lambda - 0.037037037037037, \\  0.0740740740740741 - 0.148148148148148 \\lambda\\right]$"
          },
          "metadata": {}
        },
        {
          "output_type": "stream",
          "name": "stdout",
          "text": [
            "\n",
            "Iterasi ke-5\n",
            "Nilai X: [-0.00411522633744855, 0.00823045267489712]\n",
            "Gradient:\n"
          ]
        },
        {
          "output_type": "display_data",
          "data": {
            "text/plain": [
              "[0.0493827160493827, 0.0493827160493827]"
            ],
            "text/latex": "$\\displaystyle \\left[ 0.0493827160493827, \\  0.0493827160493827\\right]$"
          },
          "metadata": {}
        },
        {
          "output_type": "stream",
          "name": "stdout",
          "text": [
            "d5 : [-0.0493827160493827, -0.0493827160493827]\n"
          ]
        },
        {
          "output_type": "display_data",
          "data": {
            "text/plain": [
              "[0.0123456790123457 - 0.0493827160493827*lamda, 0.0246913580246914 - 0.0493827\n",
              "160493827*lamda]"
            ],
            "text/latex": "$\\displaystyle \\left[ 0.0123456790123457 - 0.0493827160493827 \\lambda, \\  0.0246913580246914 - 0.0493827160493827 \\lambda\\right]$"
          },
          "metadata": {}
        },
        {
          "output_type": "stream",
          "name": "stdout",
          "text": [
            "\n",
            "Iterasi ke-6\n",
            "Nilai X: [0.00137174211248285, 0.00274348422496571]\n",
            "Gradient:\n"
          ]
        },
        {
          "output_type": "display_data",
          "data": {
            "text/plain": [
              "[-0.0164609053497942, 0.0164609053497942]"
            ],
            "text/latex": "$\\displaystyle \\left[ -0.0164609053497942, \\  0.0164609053497942\\right]$"
          },
          "metadata": {}
        },
        {
          "output_type": "stream",
          "name": "stdout",
          "text": [
            "d6 : [0.0164609053497942, -0.0164609053497942]\n"
          ]
        },
        {
          "output_type": "display_data",
          "data": {
            "text/plain": [
              "[0.0164609053497942*lamda - 0.00411522633744855, 0.00823045267489712 - 0.01646\n",
              "09053497942*lamda]"
            ],
            "text/latex": "$\\displaystyle \\left[ 0.0164609053497942 \\lambda - 0.00411522633744855, \\  0.00823045267489712 - 0.0164609053497942 \\lambda\\right]$"
          },
          "metadata": {}
        },
        {
          "output_type": "stream",
          "name": "stdout",
          "text": [
            "\n",
            "Iterasi ke-7\n",
            "Nilai X: [-0.000457247370827617, 0.000914494741655236]\n",
            "Gradient:\n"
          ]
        },
        {
          "output_type": "display_data",
          "data": {
            "text/plain": [
              "[0.00548696844993141, 0.00548696844993142]"
            ],
            "text/latex": "$\\displaystyle \\left[ 0.00548696844993141, \\  0.00548696844993142\\right]$"
          },
          "metadata": {}
        },
        {
          "output_type": "stream",
          "name": "stdout",
          "text": [
            "d7 : [-0.00548696844993141, -0.00548696844993142]\n"
          ]
        },
        {
          "output_type": "display_data",
          "data": {
            "text/plain": [
              "[0.00137174211248285 - 0.00548696844993141*lamda, 0.00274348422496571 - 0.0054\n",
              "8696844993142*lamda]"
            ],
            "text/latex": "$\\displaystyle \\left[ 0.00137174211248285 - 0.00548696844993141 \\lambda, \\  0.00274348422496571 - 0.00548696844993142 \\lambda\\right]$"
          },
          "metadata": {}
        },
        {
          "output_type": "stream",
          "name": "stdout",
          "text": [
            "\n",
            "Iterasi ke-8\n",
            "Nilai X: [0.000152415790275872, 0.000304831580551745]\n",
            "Gradient:\n"
          ]
        },
        {
          "output_type": "display_data",
          "data": {
            "text/plain": [
              "[-0.00182898948331047, 0.00182898948331047]"
            ],
            "text/latex": "$\\displaystyle \\left[ -0.00182898948331047, \\  0.00182898948331047\\right]$"
          },
          "metadata": {}
        },
        {
          "output_type": "stream",
          "name": "stdout",
          "text": [
            "d8 : [0.00182898948331047, -0.00182898948331047]\n"
          ]
        },
        {
          "output_type": "display_data",
          "data": {
            "text/plain": [
              "[0.00182898948331047*lamda - 0.000457247370827617, 0.000914494741655236 - 0.00\n",
              "182898948331047*lamda]"
            ],
            "text/latex": "$\\displaystyle \\left[ 0.00182898948331047 \\lambda - 0.000457247370827617, \\  0.000914494741655236 - 0.00182898948331047 \\lambda\\right]$"
          },
          "metadata": {}
        },
        {
          "output_type": "stream",
          "name": "stdout",
          "text": [
            "\n",
            "Iterasi ke-9\n",
            "Nilai X: [-5.08052634252908e-5, 0.000101610526850582]\n",
            "Gradient:\n"
          ]
        },
        {
          "output_type": "display_data",
          "data": {
            "text/plain": [
              "[0.000609663161103489, 0.000609663161103491]"
            ],
            "text/latex": "$\\displaystyle \\left[ 0.000609663161103489, \\  0.000609663161103491\\right]$"
          },
          "metadata": {}
        },
        {
          "output_type": "stream",
          "name": "stdout",
          "text": [
            "d9 : [-0.000609663161103489, -0.000609663161103491]\n"
          ]
        },
        {
          "output_type": "display_data",
          "data": {
            "text/plain": [
              "[0.000152415790275872 - 0.000609663161103489*lamda, 0.000304831580551745 - 0.0\n",
              "00609663161103491*lamda]"
            ],
            "text/latex": "$\\displaystyle \\left[ 0.000152415790275872 - 0.000609663161103489 \\lambda, \\  0.000304831580551745 - 0.000609663161103491 \\lambda\\right]$"
          },
          "metadata": {}
        },
        {
          "output_type": "stream",
          "name": "stdout",
          "text": [
            "\n",
            "Iterasi ke-10\n",
            "Nilai X: [1.69350878084302e-5, 3.38701756168606e-5]\n",
            "Gradient:\n"
          ]
        },
        {
          "output_type": "display_data",
          "data": {
            "text/plain": [
              "[-0.000203221053701163, 0.000203221053701164]"
            ],
            "text/latex": "$\\displaystyle \\left[ -0.000203221053701163, \\  0.000203221053701164\\right]$"
          },
          "metadata": {}
        },
        {
          "output_type": "stream",
          "name": "stdout",
          "text": [
            "d10 : [0.000203221053701163, -0.000203221053701164]\n"
          ]
        },
        {
          "output_type": "display_data",
          "data": {
            "text/plain": [
              "[0.000203221053701163*lamda - 5.08052634252908e-5, 0.000101610526850582 - 0.00\n",
              "0203221053701164*lamda]"
            ],
            "text/latex": "$\\displaystyle \\left[ 0.000203221053701163 \\lambda - 5.08052634252908 \\cdot 10^{-5}, \\  0.000101610526850582 - 0.000203221053701164 \\lambda\\right]$"
          },
          "metadata": {}
        },
        {
          "output_type": "stream",
          "name": "stdout",
          "text": [
            "\n",
            "Iterasi ke-11\n",
            "Nilai X: [-5.64502926947675e-6, 1.12900585389535e-5]\n",
            "Gradient:\n"
          ]
        },
        {
          "output_type": "display_data",
          "data": {
            "text/plain": [
              "[6.7740351233721e-5, 6.77403512337212e-5]"
            ],
            "text/latex": "$\\displaystyle \\left[ 6.7740351233721 \\cdot 10^{-5}, \\  6.77403512337212 \\cdot 10^{-5}\\right]$"
          },
          "metadata": {}
        },
        {
          "output_type": "stream",
          "name": "stdout",
          "text": [
            "d11 : [-6.77403512337210e-5, -6.77403512337212e-5]\n"
          ]
        },
        {
          "output_type": "display_data",
          "data": {
            "text/plain": [
              "[1.69350878084302e-5 - 6.7740351233721e-5*lamda, 3.38701756168606e-5 - 6.77403\n",
              "512337212e-5*lamda]"
            ],
            "text/latex": "$\\displaystyle \\left[ 1.69350878084302 \\cdot 10^{-5} - 6.7740351233721 \\cdot 10^{-5} \\lambda, \\  3.38701756168606 \\cdot 10^{-5} - 6.77403512337212 \\cdot 10^{-5} \\lambda\\right]$"
          },
          "metadata": {}
        },
        {
          "output_type": "stream",
          "name": "stdout",
          "text": [
            "\n",
            "Iterasi ke-12\n",
            "Nilai X: [1.88167642315894e-6, 3.76335284631782e-6]\n",
            "Gradient:\n"
          ]
        },
        {
          "output_type": "display_data",
          "data": {
            "text/plain": [
              "[-2.2580117077907e-5, 2.25801170779071e-5]"
            ],
            "text/latex": "$\\displaystyle \\left[ -2.2580117077907 \\cdot 10^{-5}, \\  2.25801170779071 \\cdot 10^{-5}\\right]$"
          },
          "metadata": {}
        },
        {
          "output_type": "stream",
          "name": "stdout",
          "text": [
            "d12 : [2.25801170779070e-5, -2.25801170779071e-5]\n"
          ]
        },
        {
          "output_type": "display_data",
          "data": {
            "text/plain": [
              "[2.2580117077907e-5*lamda - 5.64502926947675e-6, 1.12900585389535e-5 - 2.25801\n",
              "170779071e-5*lamda]"
            ],
            "text/latex": "$\\displaystyle \\left[ 2.2580117077907 \\cdot 10^{-5} \\lambda - 5.64502926947675 \\cdot 10^{-6}, \\  1.12900585389535 \\cdot 10^{-5} - 2.25801170779071 \\cdot 10^{-5} \\lambda\\right]$"
          },
          "metadata": {}
        },
        {
          "output_type": "stream",
          "name": "stdout",
          "text": [
            "\n",
            "Iterasi ke-13\n",
            "Nilai X: [-6.27225474386291e-7, 1.25445094877263e-6]\n",
            "Gradient:\n"
          ]
        },
        {
          "output_type": "display_data",
          "data": {
            "text/plain": [
              "[7.52670569263576e-6, 7.52670569263564e-6]"
            ],
            "text/latex": "$\\displaystyle \\left[ 7.52670569263576 \\cdot 10^{-6}, \\  7.52670569263564 \\cdot 10^{-6}\\right]$"
          },
          "metadata": {}
        },
        {
          "output_type": "stream",
          "name": "stdout",
          "text": [
            "d13 : [-7.52670569263576e-6, -7.52670569263564e-6]\n"
          ]
        },
        {
          "output_type": "display_data",
          "data": {
            "text/plain": [
              "[1.88167642315894e-6 - 7.52670569263576e-6*lamda, 3.76335284631782e-6 - 7.5267\n",
              "0569263564e-6*lamda]"
            ],
            "text/latex": "$\\displaystyle \\left[ 1.88167642315894 \\cdot 10^{-6} - 7.52670569263576 \\cdot 10^{-6} \\lambda, \\  3.76335284631782 \\cdot 10^{-6} - 7.52670569263564 \\cdot 10^{-6} \\lambda\\right]$"
          },
          "metadata": {}
        },
        {
          "output_type": "stream",
          "name": "stdout",
          "text": [
            "\n",
            "Iterasi ke-14\n",
            "Nilai X: [2.09075158128773e-7, 4.18150316257534e-7]\n",
            "Gradient:\n"
          ]
        },
        {
          "output_type": "display_data",
          "data": {
            "text/plain": [
              "[-2.50890189754516e-6, 2.50890189754526e-6]"
            ],
            "text/latex": "$\\displaystyle \\left[ -2.50890189754516 \\cdot 10^{-6}, \\  2.50890189754526 \\cdot 10^{-6}\\right]$"
          },
          "metadata": {}
        },
        {
          "output_type": "stream",
          "name": "stdout",
          "text": [
            "d14 : [2.50890189754516e-6, -2.50890189754526e-6]\n"
          ]
        },
        {
          "output_type": "display_data",
          "data": {
            "text/plain": [
              "[2.50890189754516e-6*lamda - 6.27225474386291e-7, 1.25445094877263e-6 - 2.5089\n",
              "0189754526e-6*lamda]"
            ],
            "text/latex": "$\\displaystyle \\left[ 2.50890189754516 \\cdot 10^{-6} \\lambda - 6.27225474386291 \\cdot 10^{-7}, \\  1.25445094877263 \\cdot 10^{-6} - 2.50890189754526 \\cdot 10^{-6} \\lambda\\right]$"
          },
          "metadata": {}
        },
        {
          "output_type": "stream",
          "name": "stdout",
          "text": [
            "\n",
            "Konvergensi tercapai.\n"
          ]
        }
      ]
    },
    {
      "cell_type": "code",
      "source": [
        "from sympy import symbols, sympify, diff, solve\n",
        "\n",
        "def step_descent():\n",
        "    # Input the number of variables\n",
        "    n = int(input(\"Masukkan banyak variabel: \"))\n",
        "\n",
        "    # Input variable names\n",
        "    var_names = []\n",
        "    for i in range(n):\n",
        "        var_name = input(f\"Masukkan nama variabel ke-{i+1}: \")\n",
        "        var_names.append(var_name)\n",
        "\n",
        "    # Create symbolic variables\n",
        "    symbolic_vars = symbols(var_names)\n",
        "\n",
        "    # Input the objective function\n",
        "    fungsi_str = input(\"Masukkan fungsi objektif: \")\n",
        "    fungsi = sympify(fungsi_str)\n",
        "\n",
        "    # Input initial values for variables\n",
        "    initial_values = []\n",
        "    for i, var_name in enumerate(var_names):\n",
        "        initial_value = float(input(f\"Masukkan titik awal {var_name}: \"))\n",
        "        initial_values.append(initial_value)\n",
        "\n",
        "    # Initialize X with initial values\n",
        "    X = [initial_values]\n",
        "\n",
        "    # Compute the gradient of the objective function\n",
        "    gradf = [diff(fungsi, var) for var in symbolic_vars]\n",
        "\n",
        "    # Perform gradient descent\n",
        "    iterasi = 0\n",
        "    max_iter = 50\n",
        "    while iterasi < max_iter:\n",
        "        # Compute gradient at current point\n",
        "        solutions = {symbolic_vars[i]: X[iterasi][i] for i in range(n)}\n",
        "        gradient = [grad.subs(solutions) for grad in gradf]\n",
        "\n",
        "        # Check if gradient is close to zero\n",
        "        if all(abs(grad) < 1e-11 for grad in gradient):\n",
        "            print(\"Konvergensi tercapai.\")\n",
        "            break\n",
        "\n",
        "        # Compute step direction\n",
        "        d = [-grad for grad in gradient]\n",
        "\n",
        "        # Find step size using line search\n",
        "        lamda = symbols('lamda')\n",
        "        xi = [X[iterasi][i] + lamda * d[i] for i in range(n)]\n",
        "        g = fungsi.subs({symbolic_vars[i]: xi[i] for i in range(n)})\n",
        "        gaksen = diff(g, lamda)\n",
        "        lamda_solution = solve(gaksen)\n",
        "        if lamda_solution:\n",
        "            lamda_optimal = lamda_solution[0]\n",
        "        else:\n",
        "            print(\"Gagal menemukan panjang langkah yang optimal.\")\n",
        "            break\n",
        "\n",
        "        # Update X\n",
        "        X.append([X[iterasi][i] + lamda_optimal * d[i] for i in range(n)])\n",
        "\n",
        "        # Print iteration information\n",
        "        print(f\"Iterasi ke-{iterasi+1}\")\n",
        "        print(\"Nilai X:\", X[-1])\n",
        "        print(\"Gradient:\")\n",
        "        display( gradient)\n",
        "        print(f\"d{iterasi+1} : {d}\")\n",
        "        display(xi)\n",
        "        print()\n",
        "\n",
        "        iterasi += 1\n",
        "    else:\n",
        "        print(\"Iterasi maksimum tercapai.\")\n",
        "\n",
        "step_descent()\n"
      ],
      "metadata": {
        "colab": {
          "base_uri": "https://localhost:8080/",
          "height": 277
        },
        "id": "UEa9ocWBXsqq",
        "outputId": "b1079e87-67ff-42fd-f082-7e87b59dc933"
      },
      "execution_count": null,
      "outputs": [
        {
          "output_type": "stream",
          "name": "stdout",
          "text": [
            "Masukkan banyak variabel: 2\n",
            "Masukkan nama variabel ke-1: x\n",
            "Masukkan nama variabel ke-2: y\n",
            "Masukkan fungsi objektif: 5*x**2+5*y**2-x*y-11*x+11*y+11\n",
            "Masukkan titik awal x: 0\n",
            "Masukkan titik awal y: 0\n",
            "Iterasi ke-1\n",
            "Nilai X: [1.00000000000000, -1.00000000000000]\n",
            "Gradient:\n"
          ]
        },
        {
          "output_type": "display_data",
          "data": {
            "text/plain": [
              "[-11, 11]"
            ],
            "text/latex": "$\\displaystyle \\left[ -11, \\  11\\right]$"
          },
          "metadata": {}
        },
        {
          "output_type": "stream",
          "name": "stdout",
          "text": [
            "d1 : [11, -11]\n"
          ]
        },
        {
          "output_type": "display_data",
          "data": {
            "text/plain": [
              "[11*lamda, -11*lamda]"
            ],
            "text/latex": "$\\displaystyle \\left[ 11 \\lambda, \\  - 11 \\lambda\\right]$"
          },
          "metadata": {}
        },
        {
          "output_type": "stream",
          "name": "stdout",
          "text": [
            "\n",
            "Konvergensi tercapai.\n"
          ]
        }
      ]
    }
  ]
}